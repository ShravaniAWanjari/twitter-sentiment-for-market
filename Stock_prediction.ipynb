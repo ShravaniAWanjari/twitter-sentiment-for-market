{
 "cells": [
  {
   "cell_type": "code",
   "execution_count": 73,
   "metadata": {},
   "outputs": [],
   "source": [
    "import pandas as pd\n",
    "import re\n",
    "from datasets import Dataset\n",
    "from transformers import AutoModelForSequenceClassification, TrainingArguments, Trainer, AutoTokenizer\n",
    "from sklearn.metrics import f1_score, accuracy_score\n",
    "\n",
    "\n",
    "import numpy as np\n",
    "import evaluate\n",
    "import os\n",
    "import numpy as np\n",
    "from transformers import AutoTokenizer\n"
   ]
  },
  {
   "cell_type": "code",
   "execution_count": 59,
   "metadata": {},
   "outputs": [],
   "source": [
    "def clean_tweet(text):\n",
    "    text = re.sub(r'http\\S+', '',text)\n",
    "    text = re.sub(r'\\$\\w+', \"\",text)\n",
    "    text = re.sub(r'@\\w+',\"\", text)\n",
    "    text = re.sub(r'[^a-zA-Z\\s]','',text)\n",
    "    return text.lower().strip()"
   ]
  },
  {
   "cell_type": "markdown",
   "metadata": {},
   "source": [
    "### Stock Prediction Part"
   ]
  },
  {
   "cell_type": "code",
   "execution_count": 44,
   "metadata": {},
   "outputs": [],
   "source": [
    "from datasets import load_dataset\n",
    "\n",
    "pred_data = load_dataset(\"StephanAkkerman/stock-market-tweets-data\")\n",
    "pred_data = pred_data['train'].to_pandas()\n"
   ]
  },
  {
   "cell_type": "code",
   "execution_count": 45,
   "metadata": {},
   "outputs": [],
   "source": [
    "def clean_tweet(text):\n",
    "    text = re.sub(r\"http\\S+\", \"\", text)           \n",
    "    text = re.sub(r\"\\$\\w+\", \"\", text)            \n",
    "    text = re.sub(r\"@\\w+\", \"\", text)              \n",
    "    text = re.sub(r\"[^a-zA-Z\\s]\", \"\", text)       \n",
    "    return text.lower().strip()\n",
    "\n",
    "pred_data['clean_text'] = pred_data['text'].apply(clean_tweet)\n",
    "\n",
    "pred_data['date'] = pd.to_datetime(pred_data['created_at']).dt.date\n"
   ]
  }
 ],
 "metadata": {
  "kernelspec": {
   "display_name": "keras2env",
   "language": "python",
   "name": "python3"
  },
  "language_info": {
   "codemirror_mode": {
    "name": "ipython",
    "version": 3
   },
   "file_extension": ".py",
   "mimetype": "text/x-python",
   "name": "python",
   "nbconvert_exporter": "python",
   "pygments_lexer": "ipython3",
   "version": "3.10.16"
  }
 },
 "nbformat": 4,
 "nbformat_minor": 2
}
