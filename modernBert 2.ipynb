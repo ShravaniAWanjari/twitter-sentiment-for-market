{
 "cells": [
  {
   "cell_type": "code",
   "execution_count": 1,
   "metadata": {},
   "outputs": [
    {
     "name": "stderr",
     "output_type": "stream",
     "text": [
      "c:\\Users\\Lenovo\\.conda\\envs\\keras2env\\lib\\site-packages\\tqdm\\auto.py:21: TqdmWarning: IProgress not found. Please update jupyter and ipywidgets. See https://ipywidgets.readthedocs.io/en/stable/user_install.html\n",
      "  from .autonotebook import tqdm as notebook_tqdm\n"
     ]
    }
   ],
   "source": [
    "import pandas as pd\n",
    "import re\n",
    "from datasets import Dataset\n",
    "from transformers import AutoModelForSequenceClassification, TrainingArguments, Trainer\n",
    "from sklearn.metrics import f1_score\n",
    "import numpy as np\n",
    "import evaluate\n"
   ]
  },
  {
   "cell_type": "code",
   "execution_count": 2,
   "metadata": {},
   "outputs": [],
   "source": [
    "train_data = pd.read_csv('dataset/sent_train.csv')\n",
    "validation = pd.read_csv('dataset/sent_valid.csv')"
   ]
  },
  {
   "cell_type": "code",
   "execution_count": 3,
   "metadata": {},
   "outputs": [],
   "source": [
    "def clean_tweet(text):\n",
    "    text = re.sub(r'http\\S+', '',text)\n",
    "    text = re.sub(r'\\$\\w+', \"\",text)\n",
    "    text = re.sub(r'@\\w+',\"\", text)\n",
    "    text = re.sub(r'[^a-zA-Z\\s]','',text)\n",
    "    return text.lower().strip()"
   ]
  },
  {
   "cell_type": "code",
   "execution_count": 4,
   "metadata": {},
   "outputs": [
    {
     "name": "stdout",
     "output_type": "stream",
     "text": [
      "                                         clean_tweet  label\n",
      "0      jpmorgan reels in expectations on beyond meat      0\n",
      "1  nomura points to bookings weakness at carnival...      0\n",
      "2  cemex cut at credit suisse jp morgan on weak b...      0\n",
      "3                      btig research cuts to neutral      0\n",
      "4            funko slides after piper jaffray pt cut      0\n",
      "[0 1 2]\n"
     ]
    }
   ],
   "source": [
    "train_data['clean_tweet'] = train_data['text'].apply(clean_tweet)\n",
    "validation['clean_tweet'] = validation['text'].apply(clean_tweet)\n",
    "\n",
    "print(train_data[['clean_tweet','label']].head())\n",
    "print(train_data['label'].unique())"
   ]
  },
  {
   "cell_type": "code",
   "execution_count": 5,
   "metadata": {},
   "outputs": [
    {
     "name": "stderr",
     "output_type": "stream",
     "text": [
      "Some weights of ModernBertForSequenceClassification were not initialized from the model checkpoint at answerdotai/ModernBERT-base and are newly initialized: ['classifier.bias', 'classifier.weight']\n",
      "You should probably TRAIN this model on a down-stream task to be able to use it for predictions and inference.\n"
     ]
    }
   ],
   "source": [
    "from transformers import AutoTokenizer, AutoModelForSequenceClassification\n",
    "\n",
    "model_id = \"answerdotai/ModernBERT-base\"\n",
    "tokenizer = AutoTokenizer.from_pretrained(model_id)\n",
    "model = AutoModelForSequenceClassification.from_pretrained(model_id, num_labels=3)\n"
   ]
  },
  {
   "cell_type": "code",
   "execution_count": 6,
   "metadata": {},
   "outputs": [],
   "source": [
    "def tokenize(examples):\n",
    "    return tokenizer(examples['text'], padding=\"max_length\", truncation=True, max_length=128)\n"
   ]
  },
  {
   "cell_type": "code",
   "execution_count": 7,
   "metadata": {},
   "outputs": [
    {
     "name": "stderr",
     "output_type": "stream",
     "text": [
      "Map: 100%|██████████| 9543/9543 [00:00<00:00, 19798.10 examples/s]\n",
      "Map: 100%|██████████| 2388/2388 [00:00<00:00, 18945.76 examples/s]\n"
     ]
    }
   ],
   "source": [
    "train_dataset = train_data[['text', 'label']].rename(columns={'text': 'text', 'label': 'labels'})\n",
    "val_dataset = validation[['text', 'label']].rename(columns={'text': 'text', 'label': 'labels'})\n",
    "\n",
    "\n",
    "train_dataset = Dataset.from_pandas(train_dataset)\n",
    "val_dataset = Dataset.from_pandas(val_dataset)\n",
    "\n",
    "\n",
    "train_dataset = train_dataset.map(tokenize, batched=True)\n",
    "val_dataset = val_dataset.map(tokenize, batched=True)\n",
    "\n",
    "train_dataset.set_format('torch', columns=['input_ids', 'attention_mask', 'labels'])\n",
    "val_dataset.set_format('torch', columns=['input_ids', 'attention_mask', 'labels'])\n",
    "\n"
   ]
  },
  {
   "cell_type": "code",
   "execution_count": null,
   "metadata": {},
   "outputs": [
    {
     "name": "stderr",
     "output_type": "stream",
     "text": [
      "c:\\Users\\Lenovo\\.conda\\envs\\keras2env\\lib\\site-packages\\torch\\utils\\data\\dataloader.py:665: UserWarning: 'pin_memory' argument is set as true but no accelerator is found, then device pinned memory won't be used.\n",
      "  warnings.warn(warn_msg)\n"
     ]
    },
    {
     "data": {
      "text/html": [
       "\n",
       "    <div>\n",
       "      \n",
       "      <progress value='1556' max='1794' style='width:300px; height:20px; vertical-align: middle;'></progress>\n",
       "      [1556/1794 3:45:05 < 34:28, 0.12 it/s, Epoch 5.20/6]\n",
       "    </div>\n",
       "    <table border=\"1\" class=\"dataframe\">\n",
       "  <thead>\n",
       " <tr style=\"text-align: left;\">\n",
       "      <th>Epoch</th>\n",
       "      <th>Training Loss</th>\n",
       "      <th>Validation Loss</th>\n",
       "      <th>Macro F1</th>\n",
       "    </tr>\n",
       "  </thead>\n",
       "  <tbody>\n",
       "    <tr>\n",
       "      <td>1</td>\n",
       "      <td>No log</td>\n",
       "      <td>0.306577</td>\n",
       "      <td>0.848359</td>\n",
       "    </tr>\n",
       "    <tr>\n",
       "      <td>2</td>\n",
       "      <td>0.379500</td>\n",
       "      <td>0.284872</td>\n",
       "      <td>0.862233</td>\n",
       "    </tr>\n",
       "    <tr>\n",
       "      <td>3</td>\n",
       "      <td>0.379500</td>\n",
       "      <td>0.490370</td>\n",
       "      <td>0.850741</td>\n",
       "    </tr>\n",
       "    <tr>\n",
       "      <td>4</td>\n",
       "      <td>0.094400</td>\n",
       "      <td>0.609151</td>\n",
       "      <td>0.859031</td>\n",
       "    </tr>\n",
       "    <tr>\n",
       "      <td>5</td>\n",
       "      <td>0.094400</td>\n",
       "      <td>0.735800</td>\n",
       "      <td>0.859980</td>\n",
       "    </tr>\n",
       "  </tbody>\n",
       "</table><p>"
      ],
      "text/plain": [
       "<IPython.core.display.HTML object>"
      ]
     },
     "metadata": {},
     "output_type": "display_data"
    },
    {
     "name": "stderr",
     "output_type": "stream",
     "text": [
      "c:\\Users\\Lenovo\\.conda\\envs\\keras2env\\lib\\site-packages\\torch\\utils\\data\\dataloader.py:665: UserWarning: 'pin_memory' argument is set as true but no accelerator is found, then device pinned memory won't be used.\n",
      "  warnings.warn(warn_msg)\n",
      "c:\\Users\\Lenovo\\.conda\\envs\\keras2env\\lib\\site-packages\\torch\\utils\\data\\dataloader.py:665: UserWarning: 'pin_memory' argument is set as true but no accelerator is found, then device pinned memory won't be used.\n",
      "  warnings.warn(warn_msg)\n",
      "c:\\Users\\Lenovo\\.conda\\envs\\keras2env\\lib\\site-packages\\torch\\utils\\data\\dataloader.py:665: UserWarning: 'pin_memory' argument is set as true but no accelerator is found, then device pinned memory won't be used.\n",
      "  warnings.warn(warn_msg)\n",
      "c:\\Users\\Lenovo\\.conda\\envs\\keras2env\\lib\\site-packages\\torch\\utils\\data\\dataloader.py:665: UserWarning: 'pin_memory' argument is set as true but no accelerator is found, then device pinned memory won't be used.\n",
      "  warnings.warn(warn_msg)\n",
      "c:\\Users\\Lenovo\\.conda\\envs\\keras2env\\lib\\site-packages\\torch\\utils\\data\\dataloader.py:665: UserWarning: 'pin_memory' argument is set as true but no accelerator is found, then device pinned memory won't be used.\n",
      "  warnings.warn(warn_msg)\n"
     ]
    }
   ],
   "source": [
    "trainer = Trainer(\n",
    "    model=model,\n",
    "    args=training_args,\n",
    "    train_dataset=train_dataset,\n",
    "    eval_dataset=val_dataset,\n",
    "    compute_metrics=compute_metrics,\n",
    ")\n",
    "\n",
    "trainer.train()\n"
   ]
  },
  {
   "cell_type": "code",
   "execution_count": 10,
   "metadata": {},
   "outputs": [
    {
     "name": "stdout",
     "output_type": "stream",
     "text": [
      "Final Macro-F1 on validation set: 0.8575853928655124\n"
     ]
    }
   ],
   "source": [
    "results = trainer.evaluate()\n",
    "print(\"Final Macro-F1 on validation set:\", results['eval_macro_f1'])\n"
   ]
  },
  {
   "cell_type": "code",
   "execution_count": 11,
   "metadata": {},
   "outputs": [
    {
     "name": "stdout",
     "output_type": "stream",
     "text": [
      "Using checkpoint: modernbert_2_checkpoints\\checkpoint-1794\n",
      "Loaded ModernBERT tokenizer\n"
     ]
    },
    {
     "name": "stderr",
     "output_type": "stream",
     "text": [
      "Map: 100%|██████████| 2388/2388 [00:00<00:00, 14550.95 examples/s]\n",
      "c:\\Users\\Lenovo\\.conda\\envs\\keras2env\\lib\\site-packages\\torch\\utils\\data\\dataloader.py:665: UserWarning: 'pin_memory' argument is set as true but no accelerator is found, then device pinned memory won't be used.\n",
      "  warnings.warn(warn_msg)\n"
     ]
    },
    {
     "name": "stdout",
     "output_type": "stream",
     "text": [
      "Model loaded from modernbert_2_checkpoints\\checkpoint-1794\n",
      "Running evaluation...\n"
     ]
    },
    {
     "data": {
      "text/html": [],
      "text/plain": [
       "<IPython.core.display.HTML object>"
      ]
     },
     "metadata": {},
     "output_type": "display_data"
    },
    {
     "name": "stdout",
     "output_type": "stream",
     "text": [
      "\n",
      "Classification Report:\n",
      "              precision    recall  f1-score      support\n",
      "Bearish        0.827273  0.786744  0.806499   347.000000\n",
      "Bullish        0.862144  0.829474  0.845494   475.000000\n",
      "Neutral        0.913179  0.933589  0.923271  1566.000000\n",
      "accuracy       0.891541  0.891541  0.891541     0.891541\n",
      "macro avg      0.867532  0.849935  0.858421  2388.000000\n",
      "weighted avg   0.890545  0.891541  0.890832  2388.000000\n"
     ]
    },
    {
     "data": {
      "image/png": "[encoded data removed]",
      "text/plain": [
       "<Figure size 800x600 with 2 Axes>"
      ]
     },
     "metadata": {},
     "output_type": "display_data"
    },
    {
     "name": "stderr",
     "output_type": "stream",
     "text": [
      "C:\\Users\\Lenovo\\AppData\\Local\\Temp\\ipykernel_23192\\259172998.py:89: FutureWarning: \n",
      "\n",
      "Passing `palette` without assigning `hue` is deprecated and will be removed in v0.14.0. Assign the `x` variable to `hue` and set `legend=False` for the same effect.\n",
      "\n",
      "  sns.countplot(x=y_true.numpy(), palette='viridis')\n",
      "C:\\Users\\Lenovo\\AppData\\Local\\Temp\\ipykernel_23192\\259172998.py:94: FutureWarning: \n",
      "\n",
      "Passing `palette` without assigning `hue` is deprecated and will be removed in v0.14.0. Assign the `x` variable to `hue` and set `legend=False` for the same effect.\n",
      "\n",
      "  sns.countplot(x=y_pred, palette='viridis')\n"
     ]
    },
    {
     "data": {
      "image/png": "[encoded data removed]",
      "text/plain": [
       "<Figure size 1200x500 with 2 Axes>"
      ]
     },
     "metadata": {},
     "output_type": "display_data"
    },
    {
     "name": "stdout",
     "output_type": "stream",
     "text": [
      "\n",
      "Evaluation Metrics:\n",
      "Macro F1: 0.8584\n",
      "Loss: 0.7307\n",
      "F1 score for Bearish: 0.8065\n",
      "F1 score for Bullish: 0.8455\n",
      "F1 score for Neutral: 0.9233\n",
      "\n",
      "Detailed results saved\n"
     ]
    }
   ],
   "source": [
    "import os\n",
    "import pandas as pd\n",
    "import numpy as np\n",
    "import matplotlib.pyplot as plt\n",
    "import seaborn as sns\n",
    "from transformers import AutoModelForSequenceClassification, AutoTokenizer, Trainer, TrainingArguments\n",
    "from sklearn.metrics import classification_report, confusion_matrix, f1_score\n",
    "from datasets import Dataset\n",
    "\n",
    "\n",
    "\n",
    "checkpoint_dir = \"modernbert_2_checkpoints\"\n",
    "\n",
    "\n",
    "checkpoint_dirs = [os.path.join(checkpoint_dir, d) for d in os.listdir(checkpoint_dir) \n",
    "                   if os.path.isdir(os.path.join(checkpoint_dir, d)) and \"checkpoint\" in d]\n",
    "\n",
    "if checkpoint_dirs:\n",
    "    checkpoint_dirs.sort(key=lambda x: int(x.split(\"-\")[-1]))\n",
    "    best_checkpoint = checkpoint_dirs[-1]\n",
    "    print(f\"Using checkpoint: {best_checkpoint}\")\n",
    "else:\n",
    "    best_checkpoint = checkpoint_dir\n",
    "    print(f\"No checkpoint subdirectories found. Using: {best_checkpoint}\")\n",
    "\n",
    "try:\n",
    "    tokenizer = AutoTokenizer.from_pretrained(\"answerdotai/ModernBERT-base\")\n",
    "    print(\"Loaded ModernBERT tokenizer\")\n",
    "except:\n",
    "    try:\n",
    "        tokenizer = AutoTokenizer.from_pretrained(best_checkpoint)\n",
    "        print(f\"Loaded tokenizer from {best_checkpoint}\")\n",
    "    except:\n",
    "        tokenizer = AutoTokenizer.from_pretrained(\"answerdotai/ModernBERT-base\")\n",
    "        print(\"Loaded fallback BERT tokenizer\")\n",
    "\n",
    "def tokenize(batch):\n",
    "    return tokenizer(batch['text'], padding='max_length', truncation=True, max_length=128)\n",
    "\n",
    "val_dataset = validation[['text', 'label']].rename(columns={'text': 'text', 'label': 'labels'})\n",
    "val_dataset = Dataset.from_pandas(val_dataset)\n",
    "val_dataset = val_dataset.map(tokenize, batched=True)\n",
    "val_dataset.set_format('torch', columns=['input_ids', 'attention_mask', 'labels'])\n",
    "\n",
    "model = AutoModelForSequenceClassification.from_pretrained(best_checkpoint)\n",
    "print(f\"Model loaded from {best_checkpoint}\")\n",
    "\n",
    "def compute_metrics(eval_pred):\n",
    "    logits, labels = eval_pred\n",
    "    predictions = np.argmax(logits, axis=1)\n",
    "    f1 = f1_score(labels, predictions, average='macro')\n",
    "    return {\"macro_f1\": f1}\n",
    "\n",
    "training_args = TrainingArguments(\n",
    "    output_dir=\"./modernBert_evaluation_output\",\n",
    "    per_device_eval_batch_size=32,\n",
    ")\n",
    "\n",
    "trainer = Trainer(\n",
    "    model=model,\n",
    "    args=training_args,\n",
    "    compute_metrics=compute_metrics,\n",
    ")\n",
    "\n",
    "print(\"Running evaluation...\")\n",
    "predictions = trainer.predict(val_dataset)\n",
    "y_pred = np.argmax(predictions.predictions, axis=1)\n",
    "y_true = val_dataset['labels']\n",
    "\n",
    "print(\"\\nClassification Report:\")\n",
    "report = classification_report(y_true, y_pred, target_names=['Bearish', 'Bullish', 'Neutral'], output_dict=True)\n",
    "report_df = pd.DataFrame(report).transpose()\n",
    "print(report_df)\n",
    "\n",
    "cm = confusion_matrix(y_true, y_pred)\n",
    "labels = ['Bearish', 'Bullish', 'Neutral']\n",
    "\n",
    "plt.figure(figsize=(8, 6))\n",
    "sns.heatmap(cm, annot=True, fmt='d', xticklabels=labels, yticklabels=labels, cmap='Blues')\n",
    "plt.title(\"Confusion Matrix\")\n",
    "plt.xlabel(\"Predicted\")\n",
    "plt.ylabel(\"True\")\n",
    "plt.tight_layout()\n",
    "plt.savefig('results/ModernBert_confusion_matrix.png')\n",
    "plt.show()\n",
    "\n",
    "plt.figure(figsize=(12, 5))\n",
    "plt.subplot(1, 2, 1)\n",
    "sns.countplot(x=y_true.numpy(), palette='viridis')\n",
    "plt.xticks([0, 1, 2], labels)\n",
    "plt.title('True Label Distribution')\n",
    "\n",
    "plt.subplot(1, 2, 2)\n",
    "sns.countplot(x=y_pred, palette='viridis')\n",
    "plt.xticks([0, 1, 2], labels)\n",
    "plt.title('Predicted Label Distribution')\n",
    "\n",
    "plt.tight_layout()\n",
    "plt.savefig('results/ModernBert_label_distribution.png')\n",
    "plt.show()\n",
    "\n",
    "print(\"\\nEvaluation Metrics:\")\n",
    "print(f\"Macro F1: {predictions.metrics['test_macro_f1']:.4f}\")\n",
    "print(f\"Loss: {predictions.metrics['test_loss']:.4f}\")\n",
    "\n",
    "from sklearn.metrics import f1_score\n",
    "f1_per_class = f1_score(y_true, y_pred, average=None)\n",
    "for i, label in enumerate(labels):\n",
    "    print(f\"F1 score for {label}: {f1_per_class[i]:.4f}\")\n",
    "\n",
    "results = {\n",
    "    'Class': labels + ['macro avg', 'weighted avg'],\n",
    "    'Precision': [report['Bearish']['precision'], report['Bullish']['precision'], \n",
    "                  report['Neutral']['precision'], report['macro avg']['precision'], \n",
    "                  report['weighted avg']['precision']],\n",
    "    'Recall': [report['Bearish']['recall'], report['Bullish']['recall'], \n",
    "               report['Neutral']['recall'], report['macro avg']['recall'], \n",
    "               report['weighted avg']['recall']],\n",
    "    'F1-Score': [report['Bearish']['f1-score'], report['Bullish']['f1-score'], \n",
    "                report['Neutral']['f1-score'], report['macro avg']['f1-score'], \n",
    "                report['weighted avg']['f1-score']],\n",
    "    'Support': [report['Bearish']['support'], report['Bullish']['support'], \n",
    "                report['Neutral']['support'], report['macro avg']['support'], \n",
    "                report['weighted avg']['support']]\n",
    "}\n",
    "\n",
    "results_df = pd.DataFrame(results)\n",
    "results_df.to_csv('results/modernBert_results.csv', index=False)\n",
    "print(\"\\nDetailed results saved\")"
   ]
  }
 ],
 "metadata": {
  "kernelspec": {
   "display_name": "keras2env",
   "language": "python",
   "name": "python3"
  },
  "language_info": {
   "codemirror_mode": {
    "name": "ipython",
    "version": 3
   },
   "file_extension": ".py",
   "mimetype": "text/x-python",
   "name": "python",
   "nbconvert_exporter": "python",
   "pygments_lexer": "ipython3",
   "version": "3.10.16"
  }
 },
 "nbformat": 4,
 "nbformat_minor": 2
}
